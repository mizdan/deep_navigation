{
 "cells": [
  {
   "cell_type": "code",
   "execution_count": 17,
   "metadata": {
    "ExecuteTime": {
     "end_time": "2020-05-25T01:23:43.138763Z",
     "start_time": "2020-05-25T01:23:43.135227Z"
    }
   },
   "outputs": [],
   "source": [
    "import functools\n",
    "import numpy as np\n",
    "import tensorflow as tf\n",
    "from tensorflow import keras\n",
    "import pandas as pd"
   ]
  },
  {
   "cell_type": "code",
   "execution_count": 18,
   "metadata": {
    "ExecuteTime": {
     "end_time": "2020-05-25T01:23:43.584942Z",
     "start_time": "2020-05-25T01:23:43.141453Z"
    },
    "scrolled": false
   },
   "outputs": [
    {
     "name": "stdout",
     "output_type": "stream",
     "text": [
      "(1044, 719, 1) (1044, 6, 1)\n"
     ]
    }
   ],
   "source": [
    "df=pd.read_csv('dataset.csv',header=None, delimiter=\" \")\n",
    "df = df.replace([np.inf, -np.inf, np.nan], 10.0) # todo\n",
    "data = np.float32(df.values)\n",
    "data_reshaped = data.reshape((data.shape[0], data.shape[1], 1))\n",
    "data_x = data_reshaped[:,7:]\n",
    "data_y = data_reshaped[:,0:6]\n",
    "print(data_x.shape, data_y.shape)"
   ]
  },
  {
   "cell_type": "code",
   "execution_count": 19,
   "metadata": {
    "ExecuteTime": {
     "end_time": "2020-05-25T01:23:43.594674Z",
     "start_time": "2020-05-25T01:23:43.588352Z"
    }
   },
   "outputs": [
    {
     "data": {
      "text/plain": [
       "False"
      ]
     },
     "execution_count": 19,
     "metadata": {},
     "output_type": "execute_result"
    }
   ],
   "source": [
    "np.any(np.isinf(data_x))"
   ]
  },
  {
   "cell_type": "code",
   "execution_count": 20,
   "metadata": {
    "ExecuteTime": {
     "end_time": "2020-05-25T01:23:43.752553Z",
     "start_time": "2020-05-25T01:23:43.598836Z"
    }
   },
   "outputs": [
    {
     "name": "stdout",
     "output_type": "stream",
     "text": [
      "Model: \"sequential_3\"\n",
      "_________________________________________________________________\n",
      "Layer (type)                 Output Shape              Param #   \n",
      "=================================================================\n",
      "conv1d_6 (Conv1D)            (None, 172, 32)           1056      \n",
      "_________________________________________________________________\n",
      "conv1d_7 (Conv1D)            (None, 40, 16)            8208      \n",
      "_________________________________________________________________\n",
      "flatten_3 (Flatten)          (None, 640)               0         \n",
      "_________________________________________________________________\n",
      "dense_3 (Dense)              (None, 6)                 3846      \n",
      "=================================================================\n",
      "Total params: 13,110\n",
      "Trainable params: 13,110\n",
      "Non-trainable params: 0\n",
      "_________________________________________________________________\n"
     ]
    }
   ],
   "source": [
    "model = keras.Sequential([\n",
    "    keras.layers.Input(shape=(data_x.shape[1], 1)),\n",
    "    keras.layers.Conv1D(filters=32, kernel_size=32, strides=4, activation='relu'),\n",
    "    keras.layers.Conv1D(filters=16, kernel_size=16, strides=4,activation='relu'),\n",
    "    keras.layers.Flatten(),\n",
    "    keras.layers.Dense(6)\n",
    "])\n",
    "model.compile(optimizer='adam',\n",
    "              loss='mean_squared_error',\n",
    "              metrics=['accuracy'])\n",
    "model.summary()"
   ]
  },
  {
   "cell_type": "code",
   "execution_count": 21,
   "metadata": {
    "ExecuteTime": {
     "end_time": "2020-05-25T01:23:43.768288Z",
     "start_time": "2020-05-25T01:23:43.754298Z"
    }
   },
   "outputs": [
    {
     "data": {
      "text/plain": [
       "<tf.Tensor: shape=(1, 6), dtype=float32, numpy=\n",
       "array([[-0.5918552 ,  0.12066539, -1.481148  ,  0.26714107, -0.04750457,\n",
       "         0.4460086 ]], dtype=float32)>"
      ]
     },
     "execution_count": 21,
     "metadata": {},
     "output_type": "execute_result"
    }
   ],
   "source": [
    "model(data_x[0].reshape(1,data_x[0].shape[0], data_x[0].shape[1]))"
   ]
  },
  {
   "cell_type": "code",
   "execution_count": 22,
   "metadata": {
    "ExecuteTime": {
     "end_time": "2020-05-25T01:23:50.957229Z",
     "start_time": "2020-05-25T01:23:43.769841Z"
    }
   },
   "outputs": [
    {
     "name": "stdout",
     "output_type": "stream",
     "text": [
      "Train on 1044 samples\n",
      "Epoch 1/20\n",
      "1044/1044 [==============================] - 1s 867us/sample - loss: 0.0566 - accuracy: 0.8027\n",
      "Epoch 2/20\n",
      "1044/1044 [==============================] - 0s 352us/sample - loss: 0.0142 - accuracy: 0.8937\n",
      "Epoch 3/20\n",
      "1044/1044 [==============================] - 0s 362us/sample - loss: 0.0109 - accuracy: 0.9080\n",
      "Epoch 4/20\n",
      "1044/1044 [==============================] - 0s 319us/sample - loss: 0.0093 - accuracy: 0.9119\n",
      "Epoch 5/20\n",
      "1044/1044 [==============================] - 0s 298us/sample - loss: 0.0084 - accuracy: 0.9186\n",
      "Epoch 6/20\n",
      "1044/1044 [==============================] - 0s 299us/sample - loss: 0.0079 - accuracy: 0.9167\n",
      "Epoch 7/20\n",
      "1044/1044 [==============================] - 0s 296us/sample - loss: 0.0073 - accuracy: 0.9224\n",
      "Epoch 8/20\n",
      "1044/1044 [==============================] - 0s 296us/sample - loss: 0.0069 - accuracy: 0.9272\n",
      "Epoch 9/20\n",
      "1044/1044 [==============================] - 0s 267us/sample - loss: 0.0065 - accuracy: 0.9301\n",
      "Epoch 10/20\n",
      "1044/1044 [==============================] - 0s 280us/sample - loss: 0.0060 - accuracy: 0.9272\n",
      "Epoch 11/20\n",
      "1044/1044 [==============================] - 0s 299us/sample - loss: 0.0057 - accuracy: 0.9262\n",
      "Epoch 12/20\n",
      "1044/1044 [==============================] - 0s 304us/sample - loss: 0.0053 - accuracy: 0.9282\n",
      "Epoch 13/20\n",
      "1044/1044 [==============================] - 0s 313us/sample - loss: 0.0052 - accuracy: 0.9291\n",
      "Epoch 14/20\n",
      "1044/1044 [==============================] - 0s 300us/sample - loss: 0.0049 - accuracy: 0.9330\n",
      "Epoch 15/20\n",
      "1044/1044 [==============================] - 0s 296us/sample - loss: 0.0048 - accuracy: 0.9282\n",
      "Epoch 16/20\n",
      "1044/1044 [==============================] - 0s 324us/sample - loss: 0.0046 - accuracy: 0.9377\n",
      "Epoch 17/20\n",
      "1044/1044 [==============================] - 0s 317us/sample - loss: 0.0045 - accuracy: 0.9330\n",
      "Epoch 18/20\n",
      "1044/1044 [==============================] - 0s 313us/sample - loss: 0.0045 - accuracy: 0.9368\n",
      "Epoch 19/20\n",
      "1044/1044 [==============================] - 0s 310us/sample - loss: 0.0044 - accuracy: 0.9406\n",
      "Epoch 20/20\n",
      "1044/1044 [==============================] - 0s 321us/sample - loss: 0.0043 - accuracy: 0.9320\n"
     ]
    },
    {
     "data": {
      "text/plain": [
       "<tensorflow.python.keras.callbacks.History at 0x7f79a0bccf90>"
      ]
     },
     "execution_count": 22,
     "metadata": {},
     "output_type": "execute_result"
    }
   ],
   "source": [
    "model.fit(data_x, data_y, epochs=20)"
   ]
  },
  {
   "cell_type": "code",
   "execution_count": 23,
   "metadata": {
    "ExecuteTime": {
     "end_time": "2020-05-25T01:23:51.576540Z",
     "start_time": "2020-05-25T01:23:50.959688Z"
    }
   },
   "outputs": [
    {
     "name": "stdout",
     "output_type": "stream",
     "text": [
      "INFO:tensorflow:Assets written to: saved_model/my_model/assets\n"
     ]
    }
   ],
   "source": [
    "model.save('saved_model/my_model') "
   ]
  },
  {
   "cell_type": "code",
   "execution_count": null,
   "metadata": {},
   "outputs": [],
   "source": []
  }
 ],
 "metadata": {
  "kernelspec": {
   "display_name": "tensorflow",
   "language": "python",
   "name": "tensorflow"
  },
  "language_info": {
   "codemirror_mode": {
    "name": "ipython",
    "version": 3
   },
   "file_extension": ".py",
   "mimetype": "text/x-python",
   "name": "python",
   "nbconvert_exporter": "python",
   "pygments_lexer": "ipython3",
   "version": "3.7.6"
  }
 },
 "nbformat": 4,
 "nbformat_minor": 4
}
